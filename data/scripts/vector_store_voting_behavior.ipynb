{
 "cells": [
  {
   "cell_type": "markdown",
   "id": "d0fc7b4e",
   "metadata": {},
   "source": [
    "# Create the embeddings from the voting behavior data\n",
    "\n",
    "..."
   ]
  },
  {
   "cell_type": "code",
   "execution_count": 1,
   "id": "5708c017",
   "metadata": {},
   "outputs": [],
   "source": [
    "%load_ext autoreload\n",
    "%autoreload 2"
   ]
  },
  {
   "cell_type": "code",
   "execution_count": 2,
   "id": "987322d2",
   "metadata": {},
   "outputs": [],
   "source": [
    "UPLOAD_TO_PROD = False"
   ]
  },
  {
   "cell_type": "markdown",
   "id": "9e059531",
   "metadata": {},
   "source": [
    "### Create the index if it doesn't exist"
   ]
  },
  {
   "cell_type": "code",
   "execution_count": null,
   "id": "d4035256f320e026",
   "metadata": {},
   "outputs": [],
   "source": [
    "# Load env file\n",
    "import os\n",
    "from dotenv import load_dotenv\n",
    "if not UPLOAD_TO_PROD:\n",
    "    load_dotenv(override=True)\n",
    "else:\n",
    "    load_dotenv('../../.env.prod', override=True)\n",
    "print(f\"ENV={os.getenv('ENV')}\")"
   ]
  },
  {
   "cell_type": "code",
   "execution_count": null,
   "id": "f765f4f5",
   "metadata": {},
   "outputs": [],
   "source": [
    "# Define variables\n",
    "from langchain_openai import OpenAIEmbeddings\n",
    "from langchain_pinecone import PineconeVectorStore\n",
    "from pinecone import Pinecone, ServerlessSpec\n",
    "import os\n",
    "import time\n",
    "\n",
    "embed = OpenAIEmbeddings(\n",
    "    model=\"text-embedding-3-large\", api_key=os.getenv(\"OPENAI_API_KEY\")\n",
    ")\n",
    "EMBEDDING_SIZE = 3072  \n",
    "INDEX_NAME = \"justified-voting-behavior-index\"\n",
    "pc = Pinecone(pinecone_api_key=os.getenv(\"PINECONE_API_KEY\"), embedding=embed)"
   ]
  },
  {
   "cell_type": "code",
   "execution_count": 5,
   "id": "69db0a89aa650536",
   "metadata": {},
   "outputs": [],
   "source": [
    "def create_index_if_not_exists(name_prefix: str):\n",
    "    index_name = f\"{name_prefix}-index\"\n",
    "    existing_indexes = [index_info[\"name\"] for index_info in pc.list_indexes()]\n",
    "    if index_name not in existing_indexes:\n",
    "        print(f\"Creating index {index_name}\")\n",
    "        pc.create_index(\n",
    "            name=index_name,\n",
    "            dimension=EMBEDDING_SIZE,\n",
    "            metric=\"cosine\",\n",
    "            spec=ServerlessSpec(cloud=\"aws\", region=\"eu-west-1\"),\n",
    "        )\n",
    "        while not pc.describe_index(index_name).status[\"ready\"]:\n",
    "            time.sleep(1)\n",
    "        print(f\"Index {index_name} created\")\n",
    "\n",
    "\n",
    "create_index_if_not_exists(\"justified-voting-behavior\")"
   ]
  },
  {
   "cell_type": "markdown",
   "id": "baa8e363",
   "metadata": {},
   "source": [
    "### Vectorize the data and insert into the index"
   ]
  },
  {
   "cell_type": "code",
   "execution_count": 6,
   "id": "6fbc947d",
   "metadata": {},
   "outputs": [],
   "source": [
    "from uuid import uuid4\n",
    "from langchain.schema import Document\n",
    "from pinecone import Pinecone\n",
    "from langchain.embeddings import OpenAIEmbeddings\n",
    "import os\n",
    "import json\n",
    "import locale\n",
    "\n",
    "from pydantic import ValidationError\n",
    "\n",
    "from data.scripts.script_utils import create_vote_metadata_for_pinecone, ensure_uniform_vote_object_data\n",
    "from src.models.vote import Vote\n",
    "\n",
    "locale.setlocale(locale.LC_TIME, \"de_DE\")\n",
    "\n",
    "EMBEDDING_MODEL = \"text-embedding-3-large\"\n",
    "OPENAI_API_KEY = os.getenv(\"OPENAI_API_KEY\")\n",
    "PINECONE_API_KEY = os.getenv(\"PINECONE_API_KEY\")\n",
    "\n",
    "\n",
    "def create_vote_document(vote_id: int) -> Document:\n",
    "    vote_file_path = f\"../votes/vote_{vote_id}.json\"\n",
    "\n",
    "    try:\n",
    "        # Read the vote JSON file\n",
    "        with open(vote_file_path, 'r', encoding=\"utf-8\") as f:\n",
    "            vote_data = json.load(f)\n",
    "    except Exception as e:\n",
    "        print(f\"Skipping vote {vote_id} due to file not found: {e}\")\n",
    "        return None\n",
    "\n",
    "    try:\n",
    "        vote_obj = Vote(**vote_data)\n",
    "    except ValidationError as e:\n",
    "        print(f\"Skipping vote {vote_id} due to data validation error: {e}\")\n",
    "        return None\n",
    "    \n",
    "    ensure_uniform_vote_object_data(vote_obj)\n",
    "\n",
    "    if vote_obj.vote_category == \"B\":\n",
    "        print(f\"Skipping vote {vote_id} due to vote category B\")\n",
    "        return None\n",
    "    \n",
    "    # Create metadata for the document\n",
    "    metadata = create_vote_metadata_for_pinecone(vote_obj)\n",
    "    # Check size of metadata in bytes\n",
    "    metadata_size = len(json.dumps(metadata, ensure_ascii=False).encode('utf-8'))\n",
    "    size_limit = 40960\n",
    "    if metadata_size > size_limit :\n",
    "        print(f\"Skipping vote {vote_id} due to metadata size limit: size of metadata={metadata_size} bytes; limit={size_limit} bytes\")\n",
    "        return None\n",
    "    \n",
    "    # Create document from vote detail\n",
    "    uuid = uuid4()\n",
    "    doc = Document(\n",
    "        id=f\"#{vote_obj.id}#{uuid}\",\n",
    "        page_content=vote_obj.short_description,\n",
    "        metadata=metadata,\n",
    "    )\n",
    "    return doc"
   ]
  },
  {
   "cell_type": "code",
   "execution_count": null,
   "id": "225ce5bb",
   "metadata": {},
   "outputs": [],
   "source": [
    "documents_to_add = []\n",
    "start_id = 377\n",
    "end_id = 940\n",
    "# end_id = 378 # for testing purposes, set to 940 to process all votes\n",
    "skipped_docs = 0\n",
    "for vote_id in range(start_id, end_id):\n",
    "    doc = create_vote_document(vote_id)\n",
    "    if doc:\n",
    "        documents_to_add.append(doc)\n",
    "    else:\n",
    "        skipped_docs += 1\n",
    "print(f\"Skipped {skipped_docs} documents\")\n",
    "index = pc.Index(INDEX_NAME)\n",
    "embed = OpenAIEmbeddings(model=EMBEDDING_MODEL, api_key=OPENAI_API_KEY)\n",
    "vector_store = PineconeVectorStore(index=index, embedding=embed)\n",
    "print(f\"Adding {len(documents_to_add)} documents to the index\")\n",
    "vector_store.add_documents(documents_to_add, namespace=\"vote_summary\")\n",
    "print(\"Documents added to the index\")"
   ]
  },
  {
   "cell_type": "markdown",
   "id": "13ddf27c",
   "metadata": {},
   "source": [
    "## Load relevant documents from the index"
   ]
  },
  {
   "cell_type": "code",
   "execution_count": 20,
   "id": "4e4ffa90",
   "metadata": {},
   "outputs": [],
   "source": [
    "embed = OpenAIEmbeddings(\n",
    "    model=\"text-embedding-3-large\", api_key=os.getenv(\"OPENAI_API_KEY\")\n",
    ")\n",
    "\n",
    "pc = Pinecone(pinecone_api_key=os.getenv(\"PINECONE_API_KEY\"), embedding=embed)\n",
    "index = pc.Index(INDEX_NAME)\n",
    "pinecone_vector_store = PineconeVectorStore(index=index, embedding=embed)\n",
    "\n",
    "def query_voting_behavior(\n",
    "    rag_query: str,\n",
    "    n_docs: int = 10,\n",
    "    score_threshold: float = 0.5,\n",
    ") -> list[Document]:\n",
    "    relevant_docs_with_scores = (\n",
    "        pinecone_vector_store.similarity_search_with_relevance_scores(\n",
    "            rag_query,\n",
    "            namespace=\"vote_summary\",\n",
    "            k=n_docs,\n",
    "            score_threshold=score_threshold,\n",
    "        )\n",
    "    )\n",
    "    relevant_docs = [doc for doc, _ in relevant_docs_with_scores]\n",
    "    return relevant_docs"
   ]
  },
  {
   "cell_type": "markdown",
   "id": "ff50e78d",
   "metadata": {},
   "source": [
    "## Query the index"
   ]
  },
  {
   "cell_type": "code",
   "execution_count": null,
   "id": "4fef2f31",
   "metadata": {},
   "outputs": [],
   "source": [
    "query = \"\"\"Die AfD plant, Menschen mit geringem Einkommen unter anderem durch **Anhebung des Sparerpauschbetrags auf 2.400 Euro** zu entlasten, was den privaten Vermögensaufbau erleichtern soll [0]. Zudem sieht die AfD eine **Absenkung der Mehrwertsteuer für Artikel des Kinderbedarfs auf 7 %** vor, was finanziell entlasten kann [2]. Auch das steuerliche **Familiensplitting** soll insbesondere Familien mit mittlerem Einkommen entlasten [2].\"\"\"\n",
    "\n",
    "for result in query_voting_behavior(query):\n",
    "    print(result.metadata)\n",
    "    print(result.page_content)\n",
    "    print(\"----------------------------------\")\n",
    "\n"
   ]
  },
  {
   "cell_type": "code",
   "execution_count": null,
   "id": "aaa6c42b",
   "metadata": {},
   "outputs": [],
   "source": []
  }
 ],
 "metadata": {
  "kernelspec": {
   "display_name": "wahl-chat-backend-BGxLRhvY-py3.11",
   "language": "python",
   "name": "python3"
  },
  "language_info": {
   "codemirror_mode": {
    "name": "ipython",
    "version": 3
   },
   "file_extension": ".py",
   "mimetype": "text/x-python",
   "name": "python",
   "nbconvert_exporter": "python",
   "pygments_lexer": "ipython3",
   "version": "3.11.3"
  }
 },
 "nbformat": 5,
 "nbformat_minor": 9
}
