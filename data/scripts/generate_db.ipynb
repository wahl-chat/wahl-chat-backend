{
 "cells": [
  {
   "cell_type": "code",
   "execution_count": 5,
   "metadata": {},
   "outputs": [],
   "source": [
    "import os\n",
    "import json\n",
    "import sqlite3"
   ]
  },
  {
   "cell_type": "code",
   "execution_count": 6,
   "metadata": {},
   "outputs": [],
   "source": [
    "def load_all_votes() -> list[dict[str, str]]:\n",
    "    # Get all files in ../votes\n",
    "    votes = []\n",
    "    for file in os.listdir(\"../votes\"):\n",
    "        if file.endswith(\".json\"):\n",
    "            with open(f\"../votes/{file}\", \"r\") as f:\n",
    "                votes.append(json.load(f))\n",
    "    return votes"
   ]
  },
  {
   "cell_type": "code",
   "execution_count": null,
   "metadata": {},
   "outputs": [],
   "source": [
    "def generate_db(votes: list[dict[str, str]]) -> None:\n",
    "    # create a new file in ../db/votes.sqlite\n",
    "\n",
    "    if not os.path.exists(\"../db\"):\n",
    "        os.makedirs(\"../db\")\n",
    "\n",
    "    if not os.path.exists(\"../db/votes.sqlite\"):\n",
    "        open(\"../db/votes.sqlite\", \"w\").close()\n",
    "\n",
    "    conn = sqlite3.connect(\"../db/votes.sqlite\")\n",
    "    cursor = conn.cursor()\n",
    "\n",
    "    # create a table called votes\n",
    "    cursor.execute(\n",
    "        \"CREATE TABLE IF NOT EXISTS votes (id INTEGER PRIMARY KEY, title TEXT, subtitle TEXT, detail_text TEXT, short_description TEXT, submitting_party TEXT, vote_category TEXT)\"\n",
    "    )\n",
    "\n",
    "    # Convert dictionary values to tuples in the correct order\n",
    "    vote_tuples = [\n",
    "        (\n",
    "            vote.get(\"id\"),\n",
    "            vote.get(\"title\"),\n",
    "            vote.get(\"subtitle\"),\n",
    "            vote.get(\"detail_text\"),\n",
    "            vote.get(\"short_description\"),\n",
    "            \", \".join(sorted(vote.get(\"submitting_parties\", []))),\n",
    "            vote.get(\"vote_category\"),\n",
    "        )\n",
    "        for vote in votes\n",
    "    ]\n",
    "\n",
    "    print(vote_tuples)\n",
    "    # insert all votes into the table\n",
    "    cursor.executemany(\n",
    "        \"INSERT INTO votes (id, title, subtitle, detail_text, short_description, submitting_party, vote_category) VALUES (?, ?, ?, ?, ?, ?, ?)\",\n",
    "        vote_tuples,\n",
    "    )\n",
    "\n",
    "    conn.commit()\n",
    "    conn.close()\n",
    "\n",
    "\n",
    "generate_db(load_all_votes())"
   ]
  },
  {
   "cell_type": "code",
   "execution_count": null,
   "metadata": {},
   "outputs": [],
   "source": []
  }
 ],
 "metadata": {
  "kernelspec": {
   "display_name": "wahl-chat-backend-qKsRGN7D-py3.11",
   "language": "python",
   "name": "python3"
  },
  "language_info": {
   "codemirror_mode": {
    "name": "ipython",
    "version": 3
   },
   "file_extension": ".py",
   "mimetype": "text/x-python",
   "name": "python",
   "nbconvert_exporter": "python",
   "pygments_lexer": "ipython3",
   "version": "3.11.3"
  }
 },
 "nbformat": 4,
 "nbformat_minor": 2
}
